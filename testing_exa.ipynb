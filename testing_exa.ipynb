{
 "cells": [
  {
   "cell_type": "code",
   "execution_count": 1,
   "metadata": {},
   "outputs": [],
   "source": [
    "import os\n",
    "from dotenv import load_dotenv\n",
    "\n",
    "load_dotenv()\n",
    "\n",
    "EXA_API_KEY = os.getenv(\"EXA_API_KEY\")\n",
    "\n",
    "from exa_py import Exa\n",
    "\n",
    "exa = Exa(api_key=EXA_API_KEY)\n",
    "\n",
    "result = exa.search(\n",
    "  \"blog post about Rust\",\n",
    "  type=\"auto\"\n",
    ")"
   ]
  },
  {
   "cell_type": "code",
   "execution_count": 2,
   "metadata": {},
   "outputs": [
    {
     "data": {
      "text/plain": [
       "SearchResponse(results=[Result(url='https://eev.ee/blog/2012/11/17/a-little-bit-rusty/', id='https://eev.ee/blog/2012/11/17/a-little-bit-rusty/', title='fuzzy notepad', score=0.18902647495269775, published_date='2012-11-17T00:00:00.000Z', author='Eevee in', image=None, favicon=None, subpages=None, extras=None, text=None, highlights=None, highlight_scores=None, summary=None), Result(url='https://www.rerun.io/blog/why-rust', id='https://www.rerun.io/blog/why-rust', title='Why Rust?', score=0.1867033988237381, published_date='2022-10-18T00:00:00.000Z', author='Emil Ernerfeldt', image=None, favicon=None, subpages=None, extras=None, text=None, highlights=None, highlight_scores=None, summary=None), Result(url='https://materialize.com/blog/our-experience-with-rust/', id='https://materialize.com/blog/our-experience-with-rust/', title='Our experience with Rust!', score=0.18289564549922943, published_date='2022-10-18T00:00:00.000Z', author=None, image=None, favicon=None, subpages=None, extras=None, text=None, highlights=None, highlight_scores=None, summary=None), Result(url='https://utcc.utoronto.ca/~cks/space/blog/programming/RustInOurFuture', id='https://utcc.utoronto.ca/~cks/space/blog/programming/RustInOurFuture', title='Rust is a wave of the future', score=0.18174242973327637, published_date='2021-05-24T00:00:00.000Z', author=None, image=None, favicon=None, subpages=None, extras=None, text=None, highlights=None, highlight_scores=None, summary=None), Result(url='https://medium.com/volvo-cars-engineering/why-volvo-thinks-you-should-have-rust-in-your-car-4320bd639e09', id='https://medium.com/volvo-cars-engineering/why-volvo-thinks-you-should-have-rust-in-your-car-4320bd639e09', title='Why Volvo thinks you should have Rust in your car', score=0.18079160153865814, published_date='2022-10-27T00:00:00.000Z', author='Johannes Foufas', image=None, favicon=None, subpages=None, extras=None, text=None, highlights=None, highlight_scores=None, summary=None), Result(url='https://jvns.ca/blog/2014/12/14/fun-with-threads/', id='https://jvns.ca/blog/2014/12/14/fun-with-threads/', title='Diving into concurrency: trying out mutexes and atomics', score=0.18069350719451904, published_date='2014-12-14T00:00:00.000Z', author='Julia Evans', image=None, favicon=None, subpages=None, extras=None, text=None, highlights=None, highlight_scores=None, summary=None), Result(url='https://siciarz.net/24-days-of-rust-rusti/', id='https://siciarz.net/24-days-of-rust-rusti/', title='24 days of Rust - rusti | Blog | siciarz.net', score=0.18067073822021484, published_date='2014-12-19T00:00:00.000Z', author='Zbigniew Siciarz', image=None, favicon=None, subpages=None, extras=None, text=None, highlights=None, highlight_scores=None, summary=None), Result(url='https://johnaustin.io/articles/2022/blazing-fast-structural-search-for-c-sharp-in-rust', id='https://johnaustin.io/articles/2022/blazing-fast-structural-search-for-c-sharp-in-rust', title='Writing a Fast C# Code-Search Tool in Rust — John Austin', score=0.18014654517173767, published_date='2022-11-26T00:00:00.000Z', author='John Austin', image=None, favicon=None, subpages=None, extras=None, text=None, highlights=None, highlight_scores=None, summary=None), Result(url='https://wyhaines.io/peeking-into-rust', id='https://wyhaines.io/peeking-into-rust', title='Peeking into Rust', score=0.18002310395240784, published_date='2022-12-23T00:00:00.000Z', author='Kirk Haines', image=None, favicon=None, subpages=None, extras=None, text=None, highlights=None, highlight_scores=None, summary=None), Result(url='https://blog.adamchalmers.com/why-rust-on-backend/', id='https://blog.adamchalmers.com/why-rust-on-backend/', title='Why use Rust on the backend?', score=0.17993994057178497, published_date='2023-03-19T00:00:00.000Z', author=None, image=None, favicon=None, subpages=None, extras=None, text=None, highlights=None, highlight_scores=None, summary=None)], autoprompt_string='Here is a cool blog post about Rust:', resolved_search_type='neural', auto_date=None)"
      ]
     },
     "execution_count": 2,
     "metadata": {},
     "output_type": "execute_result"
    }
   ],
   "source": [
    "result"
   ]
  },
  {
   "cell_type": "code",
   "execution_count": 6,
   "metadata": {},
   "outputs": [
    {
     "data": {
      "text/plain": [
       "exa_py.api.SearchResponse"
      ]
     },
     "execution_count": 6,
     "metadata": {},
     "output_type": "execute_result"
    }
   ],
   "source": [
    "type(result)"
   ]
  },
  {
   "cell_type": "code",
   "execution_count": 10,
   "metadata": {},
   "outputs": [
    {
     "data": {
      "text/plain": [
       "[Result(url='https://eev.ee/blog/2012/11/17/a-little-bit-rusty/', id='https://eev.ee/blog/2012/11/17/a-little-bit-rusty/', title='fuzzy notepad', score=0.18902647495269775, published_date='2012-11-17T00:00:00.000Z', author='Eevee in', image=None, favicon=None, subpages=None, extras=None, text=None, highlights=None, highlight_scores=None, summary=None),\n",
       " Result(url='https://www.rerun.io/blog/why-rust', id='https://www.rerun.io/blog/why-rust', title='Why Rust?', score=0.1867033988237381, published_date='2022-10-18T00:00:00.000Z', author='Emil Ernerfeldt', image=None, favicon=None, subpages=None, extras=None, text=None, highlights=None, highlight_scores=None, summary=None),\n",
       " Result(url='https://materialize.com/blog/our-experience-with-rust/', id='https://materialize.com/blog/our-experience-with-rust/', title='Our experience with Rust!', score=0.18289564549922943, published_date='2022-10-18T00:00:00.000Z', author=None, image=None, favicon=None, subpages=None, extras=None, text=None, highlights=None, highlight_scores=None, summary=None),\n",
       " Result(url='https://utcc.utoronto.ca/~cks/space/blog/programming/RustInOurFuture', id='https://utcc.utoronto.ca/~cks/space/blog/programming/RustInOurFuture', title='Rust is a wave of the future', score=0.18174242973327637, published_date='2021-05-24T00:00:00.000Z', author=None, image=None, favicon=None, subpages=None, extras=None, text=None, highlights=None, highlight_scores=None, summary=None),\n",
       " Result(url='https://medium.com/volvo-cars-engineering/why-volvo-thinks-you-should-have-rust-in-your-car-4320bd639e09', id='https://medium.com/volvo-cars-engineering/why-volvo-thinks-you-should-have-rust-in-your-car-4320bd639e09', title='Why Volvo thinks you should have Rust in your car', score=0.18079160153865814, published_date='2022-10-27T00:00:00.000Z', author='Johannes Foufas', image=None, favicon=None, subpages=None, extras=None, text=None, highlights=None, highlight_scores=None, summary=None),\n",
       " Result(url='https://jvns.ca/blog/2014/12/14/fun-with-threads/', id='https://jvns.ca/blog/2014/12/14/fun-with-threads/', title='Diving into concurrency: trying out mutexes and atomics', score=0.18069350719451904, published_date='2014-12-14T00:00:00.000Z', author='Julia Evans', image=None, favicon=None, subpages=None, extras=None, text=None, highlights=None, highlight_scores=None, summary=None),\n",
       " Result(url='https://siciarz.net/24-days-of-rust-rusti/', id='https://siciarz.net/24-days-of-rust-rusti/', title='24 days of Rust - rusti | Blog | siciarz.net', score=0.18067073822021484, published_date='2014-12-19T00:00:00.000Z', author='Zbigniew Siciarz', image=None, favicon=None, subpages=None, extras=None, text=None, highlights=None, highlight_scores=None, summary=None),\n",
       " Result(url='https://johnaustin.io/articles/2022/blazing-fast-structural-search-for-c-sharp-in-rust', id='https://johnaustin.io/articles/2022/blazing-fast-structural-search-for-c-sharp-in-rust', title='Writing a Fast C# Code-Search Tool in Rust — John Austin', score=0.18014654517173767, published_date='2022-11-26T00:00:00.000Z', author='John Austin', image=None, favicon=None, subpages=None, extras=None, text=None, highlights=None, highlight_scores=None, summary=None),\n",
       " Result(url='https://wyhaines.io/peeking-into-rust', id='https://wyhaines.io/peeking-into-rust', title='Peeking into Rust', score=0.18002310395240784, published_date='2022-12-23T00:00:00.000Z', author='Kirk Haines', image=None, favicon=None, subpages=None, extras=None, text=None, highlights=None, highlight_scores=None, summary=None),\n",
       " Result(url='https://blog.adamchalmers.com/why-rust-on-backend/', id='https://blog.adamchalmers.com/why-rust-on-backend/', title='Why use Rust on the backend?', score=0.17993994057178497, published_date='2023-03-19T00:00:00.000Z', author=None, image=None, favicon=None, subpages=None, extras=None, text=None, highlights=None, highlight_scores=None, summary=None)]"
      ]
     },
     "execution_count": 10,
     "metadata": {},
     "output_type": "execute_result"
    }
   ],
   "source": [
    "result.results"
   ]
  },
  {
   "cell_type": "code",
   "execution_count": 12,
   "metadata": {},
   "outputs": [
    {
     "data": {
      "text/plain": [
       "{'results': [Result(url='https://eev.ee/blog/2012/11/17/a-little-bit-rusty/', id='https://eev.ee/blog/2012/11/17/a-little-bit-rusty/', title='fuzzy notepad', score=0.18902647495269775, published_date='2012-11-17T00:00:00.000Z', author='Eevee in', image=None, favicon=None, subpages=None, extras=None, text=None, highlights=None, highlight_scores=None, summary=None),\n",
       "  Result(url='https://www.rerun.io/blog/why-rust', id='https://www.rerun.io/blog/why-rust', title='Why Rust?', score=0.1867033988237381, published_date='2022-10-18T00:00:00.000Z', author='Emil Ernerfeldt', image=None, favicon=None, subpages=None, extras=None, text=None, highlights=None, highlight_scores=None, summary=None),\n",
       "  Result(url='https://materialize.com/blog/our-experience-with-rust/', id='https://materialize.com/blog/our-experience-with-rust/', title='Our experience with Rust!', score=0.18289564549922943, published_date='2022-10-18T00:00:00.000Z', author=None, image=None, favicon=None, subpages=None, extras=None, text=None, highlights=None, highlight_scores=None, summary=None),\n",
       "  Result(url='https://utcc.utoronto.ca/~cks/space/blog/programming/RustInOurFuture', id='https://utcc.utoronto.ca/~cks/space/blog/programming/RustInOurFuture', title='Rust is a wave of the future', score=0.18174242973327637, published_date='2021-05-24T00:00:00.000Z', author=None, image=None, favicon=None, subpages=None, extras=None, text=None, highlights=None, highlight_scores=None, summary=None),\n",
       "  Result(url='https://medium.com/volvo-cars-engineering/why-volvo-thinks-you-should-have-rust-in-your-car-4320bd639e09', id='https://medium.com/volvo-cars-engineering/why-volvo-thinks-you-should-have-rust-in-your-car-4320bd639e09', title='Why Volvo thinks you should have Rust in your car', score=0.18079160153865814, published_date='2022-10-27T00:00:00.000Z', author='Johannes Foufas', image=None, favicon=None, subpages=None, extras=None, text=None, highlights=None, highlight_scores=None, summary=None),\n",
       "  Result(url='https://jvns.ca/blog/2014/12/14/fun-with-threads/', id='https://jvns.ca/blog/2014/12/14/fun-with-threads/', title='Diving into concurrency: trying out mutexes and atomics', score=0.18069350719451904, published_date='2014-12-14T00:00:00.000Z', author='Julia Evans', image=None, favicon=None, subpages=None, extras=None, text=None, highlights=None, highlight_scores=None, summary=None),\n",
       "  Result(url='https://siciarz.net/24-days-of-rust-rusti/', id='https://siciarz.net/24-days-of-rust-rusti/', title='24 days of Rust - rusti | Blog | siciarz.net', score=0.18067073822021484, published_date='2014-12-19T00:00:00.000Z', author='Zbigniew Siciarz', image=None, favicon=None, subpages=None, extras=None, text=None, highlights=None, highlight_scores=None, summary=None),\n",
       "  Result(url='https://johnaustin.io/articles/2022/blazing-fast-structural-search-for-c-sharp-in-rust', id='https://johnaustin.io/articles/2022/blazing-fast-structural-search-for-c-sharp-in-rust', title='Writing a Fast C# Code-Search Tool in Rust — John Austin', score=0.18014654517173767, published_date='2022-11-26T00:00:00.000Z', author='John Austin', image=None, favicon=None, subpages=None, extras=None, text=None, highlights=None, highlight_scores=None, summary=None),\n",
       "  Result(url='https://wyhaines.io/peeking-into-rust', id='https://wyhaines.io/peeking-into-rust', title='Peeking into Rust', score=0.18002310395240784, published_date='2022-12-23T00:00:00.000Z', author='Kirk Haines', image=None, favicon=None, subpages=None, extras=None, text=None, highlights=None, highlight_scores=None, summary=None),\n",
       "  Result(url='https://blog.adamchalmers.com/why-rust-on-backend/', id='https://blog.adamchalmers.com/why-rust-on-backend/', title='Why use Rust on the backend?', score=0.17993994057178497, published_date='2023-03-19T00:00:00.000Z', author=None, image=None, favicon=None, subpages=None, extras=None, text=None, highlights=None, highlight_scores=None, summary=None)],\n",
       " 'autoprompt_string': 'Here is a cool blog post about Rust:',\n",
       " 'resolved_search_type': 'neural',\n",
       " 'auto_date': None}"
      ]
     },
     "execution_count": 12,
     "metadata": {},
     "output_type": "execute_result"
    }
   ],
   "source": [
    "result.__dict__"
   ]
  },
  {
   "cell_type": "markdown",
   "metadata": {},
   "source": [
    "result = exa.search_and_contents(\n",
    "  \"blog post about Rust\",\n",
    "  type=\"auto\",\n",
    "  start_published_date=\"2024-12-17T18:30:01.000Z\",\n",
    "  start_crawl_date=\"2024-12-25T18:30:01.000Z\",\n",
    "  exclude_domains=[\"en.wikipedia.org\"],\n",
    "  include_text=[\"python\"],\n",
    "  text={\n",
    "    \"max_characters\": 1000\n",
    "  },\n",
    "  summary=True\n",
    ")"
   ]
  },
  {
   "cell_type": "code",
   "execution_count": 13,
   "metadata": {},
   "outputs": [],
   "source": [
    "result = exa.search_and_contents(\n",
    "  \"Who is Rahul Dravid?\",\n",
    "  type=\"auto\",\n",
    "  start_crawl_date=\"2024-12-25T18:30:01.000Z\",\n",
    "  text={\n",
    "    \"max_characters\": 1000\n",
    "  },\n",
    "  summary=True,\n",
    "  start_published_date=\"2024-12-17T18:30:02.000Z\",\n",
    "  end_published_date=\"2024-12-23T18:30:01.000Z\"\n",
    ")"
   ]
  },
  {
   "cell_type": "code",
   "execution_count": 14,
   "metadata": {},
   "outputs": [
    {
     "data": {
      "text/plain": [
       "SearchResponse(results=[], autoprompt_string='Heres a great profile on Rahul Dravid:', resolved_search_type=None, auto_date='neural')"
      ]
     },
     "execution_count": 14,
     "metadata": {},
     "output_type": "execute_result"
    }
   ],
   "source": [
    "result"
   ]
  },
  {
   "cell_type": "code",
   "execution_count": 15,
   "metadata": {},
   "outputs": [],
   "source": [
    "result = exa.search_and_contents(\n",
    "  \"Who is Rahul Dravid?\",\n",
    "  type=\"auto\",\n",
    "  start_crawl_date=\"2024-12-25T18:30:01.000Z\",\n",
    "  text={\n",
    "    \"max_characters\": 1000\n",
    "  },\n",
    "  summary=True,\n",
    "  start_published_date=\"2024-01-01T08:08:38.985Z\",\n",
    "  end_published_date=\"2024-12-24T08:08:38.985Z\"\n",
    ")\n"
   ]
  },
  {
   "cell_type": "code",
   "execution_count": 17,
   "metadata": {},
   "outputs": [
    {
     "data": {
      "text/plain": [
       "{'results': [Result(url='https://en.wikipedia.org/wiki/Rahul_Dravid', id='https://en.wikipedia.org/wiki/Rahul_Dravid', title='Rahul Dravid', score=None, published_date='2024-08-27T12:00:00.000Z', author='Authority control General VIAF WorldCat National libraries Germany United States Other FAST', image=None, favicon=None, subpages=None, extras=None, text='\"Dravid\" redirects here. For other people with the same surname, see Dravid (surname) . Rahul Dravid Dravid in 2012 Personal information Full name Rahul Sharad Dravid Born 11 January 1973 (age 50) Indore , Madhya Pradesh , India Nickname The Wall, The Great Wall, Jammy, Mr. Dependable [1] Height 1.80 m (5 ft 11 in) Batting Right-handed Bowling Right arm off break Role Batsman , Part-time wicket-keeper Website www .rahuldravid .com International information National side India (1996–2012) Test debut (cap 207 ) 20 June 1996 v England Last Test 24 January 2012 v Australia ODI debut (cap 95 ) 3 April 1996 v Sri Lanka Last ODI 16 September 2011 v England ODI shirt no. 19 Only T20I (cap 38 ) 31 August 2011 v England T20I shirt no. 19 Domestic team information Years Team 1990–2012 Karnataka 2000 Kent 2003 Scottish Saltires 2008–2010 Royal Challengers Bangalore 2011–2013 Rajasthan Royals Head coaching information Years Team 2015–2021 India U-19 2015–2021 India A 2021– India Career statistics C', highlights=None, highlight_scores=None, summary='Rahul Dravid is a former Indian cricketer, widely regarded as one of the greatest batsmen of all time.  Nicknamed \"The Wall\" for his dependable batting, he played for India from 1996 to 2012, accumulating over 13,000 Test runs and 10,000 ODI runs.  He\\'s also known for his contributions to Indian cricket as a coach, currently serving as head coach of the Indian national team.\\n'),\n",
       "  Result(url='https://www.reddit.com/r/IndiaCricket/comments/1dtehx6/rahul_dravids_final_speech_as_head_coach_of_the/', id='https://www.reddit.com/r/IndiaCricket/comments/1dtehx6/rahul_dravids_final_speech_as_head_coach_of_the/', title=\"Rahul Dravid's final speech as head coach of the Indian ...\", score=None, published_date=None, author='brohit-endian19', image=None, favicon='https://www.redditstatic.com/shreddit/assets/favicon/64x64.png', subpages=None, extras=None, text='', highlights=None, highlight_scores=None, summary='The provided text is empty.  Therefore, I cannot provide a summary about Rahul Dravid.  To answer your query, you will need to provide text from the webpage about Rahul Dravid.\\n'),\n",
       "  Result(url='https://www.hindustantimes.com/cricket/the-many-cricket-identities-of-rahul-dravid-the-model-professional-101720271195380.html', id='https://www.hindustantimes.com/cricket/the-many-cricket-identities-of-rahul-dravid-the-model-professional-101720271195380.html', title='The many cricket identities of Rahul Dravid, the model ...', score=None, published_date='2024-07-06T12:00:00.000Z', author='Amrit Mathur', image=None, favicon=None, subpages=None, extras=None, text='Jul 06, 2024 06:36 PM IST Rahul Dravid, the cricket legend, is described as master, servant, mentor, and more. With multiple talents and skills, he is a key figure in the world of cricket. When the norm is one Aadhar per person why should Rahul Dravid has multiple identities? According to popular narrative he is variously described as cricket’s master, servant, legend, student, bhai, wall… Prime Minister Narendra Modi with India head coach Rahul Dravid. (ANI) It could be that Dravid (recently retired, currently unemployed) is multi-skilled and multi-talented, ticks several boxes and is the key that opens many doors. Having seen, known and interacted with him for more than two decades, it’s true that the gent from Indiranagar, Bengaluru is a complete cricket person. As player, coach, mentor, administrator, Dravid is this, that and a lot more. Look first at his cricket. India’s greatest No.3, 164 Tests, 13,000 runs. Runs didn’t flow easily from his bat, instead each was hard fought, extr', highlights=None, highlight_scores=None, summary='Rahul Dravid is a highly respected figure in Indian cricket, renowned for his multifaceted career.  He excelled as a player, amassing over 13,000 Test runs and holding the record for most catches in Test history.  Beyond his playing days, Dravid has served as a coach, mentor, and administrator, demonstrating unwavering commitment and professionalism.  His personality is characterized by humility and a focus on teamwork, setting a high standard for others in the sport.\\n'),\n",
       "  Result(url='https://indianexpress.com/article/opinion/columns/the-everyman-cricket-star-what-sets-rahul-dravid-apart-9447822/', id='https://indianexpress.com/article/opinion/columns/the-everyman-cricket-star-what-sets-rahul-dravid-apart-9447822/', title='The everyman cricket star – what sets Rahul Dravid apart?', score=None, published_date='2024-07-12T12:00:00.000Z', author='Sandeep Dwivedi', image=None, favicon=None, subpages=None, extras=None, text='Not too long ago, late one night, on the eve of a Test match, the then-Team India computer analyst got a call. On the line was a star batsman from north India, who, in a brusque tone, ordered him to rush to his room. The SOS wasn’t about some vital data on a rival bowler, as the support staff member had guessed. It was to download a movie. Arranging Bollywood hits for Indian cricketers at unearthly hours, by the way, has never been part of any IT professional’s BCCI contract. Another time, in the distant past, one Indian team manager, seated with a couple of reporters at the stadium cafe, had barked at a support staff member to fetch tea and snacks. “I got him a raise recently,” he would say, justifying the obnoxious behaviour. Waiting tables, too, wasn’t part of the job requirement for those hired to help cricketers at net sessions. Indian cricket, despite its giant strides towards modernity, hasn’t yet fully shaken off its Raj-era habits. Respect, and also rewards, still depend on yo', highlights=None, highlight_scores=None, summary=\"Rahul Dravid is a renowned Indian cricketer known for his humility and down-to-earth nature.  Unlike many other high-profile athletes, he eschews luxury and material possessions, prioritizing his family and maintaining a modest lifestyle.  He's also praised for his coaching style, fostering equality among players and advocating for pay parity among his assistants, even foregoing a significant portion of his own salary.  His career reflects classic middle-class values and a commitment to his principles.\\n\"),\n",
       "  Result(url='https://m.economictimes.com/news/sports/it-was-a-great-journey-says-rahul-dravid-as-he-signs-off-as-india-coach/articleshow/111375195.cms', id='https://m.economictimes.com/news/sports/it-was-a-great-journey-says-rahul-dravid-as-he-signs-off-as-india-coach/articleshow/111375195.cms', title='Rahul Dravid as he signs off as India coach', score=None, published_date='2024-06-30T12:00:00.000Z', author='ANI', image=None, favicon=None, subpages=None, extras=None, text='The great Rahul Dravid was not his usual restrained self after India\\'s T20 World Cup glory and couldn\\'t thank his wards enough for helping him live what he \"wasn\\'t lucky as a player\" to experience -- the heady feeling of being a world champion. With head coach Dravid watching the action from the dugout, skipper Rohit Sharma marshalled his resources beautifully as India held their nerve to eke out a seven-run victory over South Africa in a thrilling finale and win the T20 World Cup to end an 11-year ICC title drought. \"I really have felt short of words over the last few hours. I just could not be more proud of this team, the way we had to fight difficult situations,\" Dravid said after the triumph. \"Even today I think it was a great testimony... for the team to lose three wickets in the first six overs, to be in the kind of position we were in, but the boys just kept fighting, they kept believing. \"You know, as a player, I was not lucky enough to win a trophy, but I tried my best wheneve', highlights=None, highlight_scores=None, summary='Rahul Dravid is a former Indian cricketer and the current head coach of the Indian cricket team.  He led the team to victory in the T20 World Cup, a triumph he called \"a memory of a lifetime.\"  While he downplays the notion of \"redemption\" after past setbacks, Dravid expressed immense pride in his team and gratitude for the opportunity to coach them to this win.  He\\'s known for his humility and emphasizes the team\\'s collective effort and the positive environment fostered by the coaching staff and players, particularly his strong relationship with captain Rohit Sharma.  He also stated he isn\\'t focused on legacy.\\n'),\n",
       "  Result(url='https://timesofindia.indiatimes.com/sports/cricket/news/how-rahul-dravid-became-crickets-most-reliable-wall/articleshow/113298657.cms', id='https://timesofindia.indiatimes.com/sports/cricket/news/how-rahul-dravid-became-crickets-most-reliable-wall/articleshow/113298657.cms', title=\"How Rahul Dravid became cricket's most reliable 'Wall'\", score=None, published_date='2024-09-12T12:00:00.000Z', author='TOI Sports Desk', image=None, favicon=None, subpages=None, extras=None, text=\"NEW DELHI: Legendary Rahul Dravid is often called 'The Wall' and its because of his exceptional defensive skills and unwavering reliability as a batsman. The story behind this nickname is a testament to his playing style and impact on the game. Early Days and Reputation Dravid’s journey in the Indian cricket team began at The Lord's in June, 1996 against England. From the start, it was clear that he was not just another talented player; he had a unique ability to absorb pressure and anchor innings, which set him apart. His technique was characterized by a solid, unshakable defense, making him particularly formidable against pace and spin alike. The Nickname The nickname 'The Wall' began to take shape as Dravid’s career progressed. His ability to bat for long periods and his consistent performances under pressure earned him this moniker. Unlike many cricketers who might play flashy shots or rely on aggressive tactics, Dravid’s approach was more about meticulous technique and mental fort\", highlights=None, highlight_scores=None, summary='Rahul Dravid, nicknamed \"The Wall,\" is a legendary Indian cricketer renowned for his exceptional defensive skills and unwavering reliability as a batsman.  His career began in 1996, and he quickly established himself as a player capable of withstanding immense pressure and anchoring innings.  His methodical technique, patience, and ability to play long innings, particularly demonstrated in a crucial match against Australia in 2001, solidified his \"Wall\" moniker.  Beyond his playing days, Dravid\\'s influence continues through his coaching and mentoring roles.  He is widely considered one of the most respected and admired cricketers in history.\\n'),\n",
       "  Result(url='https://www.espncricinfo.com/story/rahul-dravid-unveiled-as-rajasthan-royals-head-coach-1450060', id='https://www.espncricinfo.com/story/rahul-dravid-unveiled-as-rajasthan-royals-head-coach-1450060', title='Rahul Dravid unveiled as Rajasthan Royals head coach', score=None, published_date='2024-09-06T12:00:00.000Z', author='ESPNcricinfo staff', image=None, favicon=None, subpages=None, extras=None, text='News Former India coach has signed a multi-year contract with the franchise Rahul Dravid has been formally announced as Rajasthan Royals\\' new head coach for a multi-year term, and he said it was the \"ideal time\" to \"take on another challenge\" after guiding India to the T20 World Cup title in June this year. \"I am pleased to be returning to the franchise I have called \\'home\\' for a number of years in the past,\" Dravid said in a statement, having captained RR in IPL 2012 and 2013, and been their team mentor in 2014 and 2015. \"After the World Cup, I feel it\\'s the ideal time for me to take on another challenge, and the Royals is the perfect place to do that … It\\'s an exciting opportunity for us to take this team to the next level given the kind of talent and resources we have at our disposal and I\\'m looking forward to getting started.\" ESPNcricinfo had reported two days ago that Dravid and RR had signed a deal and also had initial conversations on player retentions ahead of the upcoming meg', highlights=None, highlight_scores=None, summary=\"Rahul Dravid is a former Indian cricketer who has been appointed as the Rajasthan Royals' new head coach for a multi-year term.  He previously captained the Royals in IPL 2012 and 2013, and served as their team mentor in 2014 and 2015.  More recently, he was the head coach of the Indian men's team, leading them to their first ICC title in 11 years.  His appointment marks his return to the IPL after a period heading the National Cricket Academy in Bengaluru.\\n\"),\n",
       "  Result(url='https://sports.ndtv.com/cricket/players/174-rahul-dravid-playerprofile', id='https://sports.ndtv.com/cricket/players/174-rahul-dravid-playerprofile', title='Rahul Dravid Profile - Cricket Player, India', score=None, published_date='2024-12-18T08:38:56.388Z', author='', image=None, favicon=None, subpages=None, extras=None, text=\"It’s hard to plot Rahul Dravid on the graph of cricketing greats. There has rarely been a historic Indian win without a vital contribution from ‘The Wall’, yet, playing in the Tendulkar era, his achievements have been eclipsed by the blinding presence of the great ‘Little Master’. One of the three prominent Karnataka cricketers to make their mark in the 90s, along with Anil Kumble and Javagal Srinath, Dravid seemed like he was born out of a batting manual with a strikingly “textbook” technique. In an age where batsmen were innovating and tweaking the norm as the game evolved, Dravid stuck by the methods that he was blooded with. His earliest Test impact of note following a 95 on debut was against South Africa in 1997, when he backed his maiden century (148) with a half-century to lead India to a rare away draw. A series of impressive knocks strengthened Dravid's foundation in the team. Lack of flamboyance was his lone limitation during his formative years. Whilst effective in Tests, it\", highlights=None, highlight_scores=None, summary='Rahul Dravid was a highly respected Indian cricketer, nicknamed \"The Wall\" for his dependable batting style.  A key member of the Indian team for many years, he played alongside greats like Sachin Tendulkar, initially overshadowed by his teammate\\'s fame.  His career saw a transformation from a defensively-minded batsman to a versatile player excelling in all formats. He captained India and also played in the IPL, serving as captain and mentor for various teams.  Despite his impressive Test career, including centuries against every Test-playing nation, he was notably absent from the 2011 World Cup winning squad.  Dravid retired from all forms of cricket in March 2012.\\n'),\n",
       "  Result(url='https://www.hindustantimes.com/cricket/rahul-dravid-finally-gets-his-dues-for-being-indian-crickets-deserving-servant-amid-trials-and-tribulation-101719731589032.html', id='https://www.hindustantimes.com/cricket/rahul-dravid-finally-gets-his-dues-for-being-indian-crickets-deserving-servant-amid-trials-and-tribulation-101719731589032.html', title=\"Rahul Dravid finally gets his dues for being Indian cricket's ...\", score=None, published_date='2024-06-30T12:00:00.000Z', author='Prateek Srivastava', image=None, favicon=None, subpages=None, extras=None, text=\"Jun 30, 2024 12:50 PM IST Rahul Dravid ended his tenure as India head coach with the T20 World Cup 2024 title. It has taken Rahul Dravid almost three decades to lift a World Cup trophy with the senior team. One can’t help but wonder at the man’s determination! Dravid played in three 50-overs World Cups from 1999-2007 and the best result he could achieve with India was a runner-up finish in the 2003 World Cup. India's head coach Rahul Dravid after Team India wins the ICC Mens T20 World Cup 2024 final.(ICC - X ) His last World Cup in 2007 -- coincidentally also in the West Indies but that time it was entirely in the Caribbean -- was a total disaster as the team couldn’t progress from the group stages. And four years later when he announced his retirement from the format, he went down as one of those players – Sourav Ganguly being another -- who despite a great record, almost 11,000 runs in ODIs, couldn’t win the prestigious trophy. Also Read | Virat Kohli called 'legendary' by UFC legend\", highlights=None, highlight_scores=None, summary=\"Rahul Dravid is a former Indian cricketer who, after a long and distinguished playing career marked by near misses in World Cups despite accumulating almost 11,000 ODI runs, finally achieved World Cup victory as India's head coach in the 2024 T20 World Cup.  His coaching tenure followed a period of significant pressure and criticism after previous World Cup disappointments.\\n\")],\n",
       " 'autoprompt_string': 'Here is a biography about Rahul Dravid:',\n",
       " 'resolved_search_type': None,\n",
       " 'auto_date': 'keyword'}"
      ]
     },
     "execution_count": 17,
     "metadata": {},
     "output_type": "execute_result"
    }
   ],
   "source": [
    "result.__dict__"
   ]
  }
 ],
 "metadata": {
  "kernelspec": {
   "display_name": "exa",
   "language": "python",
   "name": "python3"
  },
  "language_info": {
   "codemirror_mode": {
    "name": "ipython",
    "version": 3
   },
   "file_extension": ".py",
   "mimetype": "text/x-python",
   "name": "python",
   "nbconvert_exporter": "python",
   "pygments_lexer": "ipython3",
   "version": "3.11.11"
  }
 },
 "nbformat": 4,
 "nbformat_minor": 2
}
